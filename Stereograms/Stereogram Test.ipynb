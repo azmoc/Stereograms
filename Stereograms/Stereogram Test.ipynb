{
 "cells": [
  {
   "cell_type": "code",
   "execution_count": null,
   "metadata": {},
   "outputs": [],
   "source": [
    "import numpy as np\n",
    "import imageio\n",
    "from matplotlib import pyplot as plt"
   ]
  },
  {
   "cell_type": "code",
   "execution_count": null,
   "metadata": {
    "scrolled": false
   },
   "outputs": [],
   "source": [
    "# This box is a test to shrink strip width from top to bottom\n",
    "\n",
    "# Total number of pixels: (480 by 140*5).\n",
    "nearw, farw, h, num_strips = 120, 140, 480, 5\n",
    "# strip_size = (h,farw)\n",
    "# strip_size_r = (farw,h)\n",
    "\n",
    "# 1400 / 140 = 10\n",
    "# 1400 / 120 = 35/3\n",
    "# Go from 10 140-pixel strips to 35/3 120-pixel strips.\n",
    "# Get how many extra pixels to put on each side at bottom row.\n",
    "max_diff = (num_strips * farw / nearw - num_strips) / 2\n",
    "# Get values [0,1] for first row of 140*5 pixels.\n",
    "image_rows = np.linspace(0, num_strips, farw * num_strips) % 1\n",
    "for k in range(1, h):\n",
    "    # For each row, calculate how much offset.\n",
    "    off = max_diff * (k / h) # proportion of maximum to offset, using 1 <= k < h\n",
    "    # Get next row with symmetric offset.\n",
    "    strip = (np.linspace(0 - off, num_strips + off, farw*num_strips)) % 1\n",
    "    image_rows = np.vstack((image_rows,strip))\n",
    "print(f\"Image shape: {image_rows.shape}\")\n",
    "# image = np.tile(strip, [960,1])\n",
    "fig = plt.figure(figsize=(12,12))\n",
    "plt.imshow(image_rows,cmap='viridis')\n",
    "plt.show()"
   ]
  },
  {
   "cell_type": "code",
   "execution_count": null,
   "metadata": {
    "scrolled": false
   },
   "outputs": [],
   "source": [
    "# This box is an additional test to offset each row.\n",
    "nearw, farw, h, num_strips = 120, 140, 480, 6\n",
    "num_pixels_row = farw * num_strips\n",
    "# strip_size = (h,farw)\n",
    "# strip_size_r = (farw,h)\n",
    "\n",
    "# 1400 / 140 = 10\n",
    "# 1400 / 120 = 35/3\n",
    "# Go from 10 140-pixel strips to 35/3 120-pixel strips.\n",
    "# offset = (140 * 10 / 120 - 140 * 10 / 140) / 2\n",
    "# Get maximum start and end offset for bottom row.\n",
    "max_diff = (num_pixels_row/nearw - num_pixels_row/farw) / 2\n",
    "# print(half_max_offset) = 50/60\n",
    "# Color Variance (bigger means larger shifts).\n",
    "cvar = .1\n",
    "image_rows = (np.linspace(0, num_strips, num_pixels_row)) % 1\n",
    "random_off = 0\n",
    "for k in range(1, h):\n",
    "    # there are 2*off + num_strips strips in current row, off ranges from 0 to max_diff\n",
    "    # how many pixels wide is each strip: num_strips*farw [1400] / (2*off + num_strips)\n",
    "    off = max_diff * (k / h) # proportional offset, with 1 <= k < h\n",
    "#     random_off += np.random.uniform(-1,1) * cvar\n",
    "    random_off += np.random.normal(0, .3) * cvar\n",
    "    strip = (np.linspace(0 - off, num_strips + off, num_pixels_row) + (random_off)) % 1\n",
    "    image_rows = np.vstack((image_rows,strip))\n",
    "# image_rows = np.tile(strip, [960,1])\n",
    "print(f\"Image shape: {image_rows.shape}\")\n",
    "fig = plt.figure(figsize=(12,12))\n",
    "plt.imshow(image_rows,cmap='viridis')\n",
    "plt.show()"
   ]
  },
  {
   "cell_type": "code",
   "execution_count": null,
   "metadata": {
    "scrolled": false
   },
   "outputs": [],
   "source": [
    "# This box tests importing a depth map.\n",
    "\n",
    "color_map=\"ocean\"\n",
    "# color_map=\"gray\"\n",
    "\n",
    "from scipy import misc\n",
    "rac = misc.face()\n",
    "rac_g = np.mean(rac, axis=2)\n",
    "m,n = rac_g.shape\n",
    "print('Picture shape:', rac.shape)\n",
    "print(f\"Min pixel: {np.min(rac_g)},\", f\"Max pixel: {np.max(rac_g)}\")\n",
    "fig = plt.figure(figsize=(12,12))\n",
    "plt.imshow(rac_g, cmap=color_map)\n",
    "plt.show()\n",
    "\n",
    "\n",
    "# Show the original image.\n",
    "saturn = imageio.imread('saturn.png')\n",
    "# imageio.imwrite('shark.png', saturn[:,130:])\n",
    "print(f\"Saturn image shape: {saturn.shape}\")\n",
    "if len(saturn.shape) == 3:\n",
    "    sat_g = np.mean(saturn, axis=2)\n",
    "else:\n",
    "    sat_g = saturn\n",
    "s_min=np.min(sat_g)\n",
    "print(f\"Min pixel: {s_min},\", f\"Max pixel: {np.max(sat_g)}\")\n",
    "fig = plt.figure(figsize=(12,12))\n",
    "plt.imshow(sat_g, cmap=color_map)\n",
    "plt.show()"
   ]
  },
  {
   "cell_type": "code",
   "execution_count": null,
   "metadata": {},
   "outputs": [],
   "source": [
    "# This box has a slow algorithm with a helper function.\n",
    "\n",
    "# # Very Slow Algorithm with Bad Coloring\n",
    "# def gen_row(strip, off):\n",
    "#     for i in range(wi):\n",
    "# #         print(strip.shape)\n",
    "#         pixel = strip[i + off[i]]\n",
    "# #         print(pixel)\n",
    "#         strip = np.append(strip, pixel)\n",
    "#         yield pixel\n",
    "# row = np.append(strip, np.array([pixel for pixel in gen_row(strip, offset[0])]))\n",
    "# # row = np.linspace(0, res, n) + np.random.uniform(-1, 1, n) / cvar\n",
    "# image = row\n",
    "# for off in offset[1:]:\n",
    "#     # For linear offset.\n",
    "#     # offset = (n/nearw - n/farw) / 2\n",
    "#     # off = offset * (k / m)\n",
    "#     strip = (strip + np.random.uniform(-1, 1) / cvar) % 1\n",
    "#     row = np.append(strip, np.array([pixel for pixel in gen_row(strip, off)]))\n",
    "#     image = np.vstack((image, row))\n",
    "# print(image.shape)\n",
    "# # image = np.tile(strip, [960,1])\n",
    "# plt.imshow(image,cmap='hsv')\n",
    "# plt.show()"
   ]
  },
  {
   "cell_type": "markdown",
   "metadata": {},
   "source": [
    "https://thepythoncodingbook.com/2021/08/30/2d-fourier-transform-in-python-and-fourier-synthesis-of-images/\n",
    "https://numpy.org/doc/stable/reference/generated/numpy.fft.fft2.html"
   ]
  },
  {
   "cell_type": "code",
   "execution_count": null,
   "metadata": {},
   "outputs": [],
   "source": []
  }
 ],
 "metadata": {
  "kernelspec": {
   "display_name": "Python 3 (ipykernel)",
   "language": "python",
   "name": "python3"
  },
  "language_info": {
   "codemirror_mode": {
    "name": "ipython",
    "version": 3
   },
   "file_extension": ".py",
   "mimetype": "text/x-python",
   "name": "python",
   "nbconvert_exporter": "python",
   "pygments_lexer": "ipython3",
   "version": "3.10.4"
  }
 },
 "nbformat": 4,
 "nbformat_minor": 2
}
