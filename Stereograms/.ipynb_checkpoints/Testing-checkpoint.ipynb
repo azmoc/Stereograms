{
 "cells": [
  {
   "cell_type": "code",
   "execution_count": 1,
   "metadata": {},
   "outputs": [],
   "source": [
    "import numpy as np\n",
    "from matplotlib import pyplot as plt\n",
    "import imageio"
   ]
  },
  {
   "cell_type": "code",
   "execution_count": 2,
   "metadata": {},
   "outputs": [
    {
     "name": "stdout",
     "output_type": "stream",
     "text": [
      "x:\n",
      "[[ 0  1  2  3]\n",
      " [ 4  5  6  7]\n",
      " [ 8  9 10 11]]\n",
      "y:\n",
      "[[0]\n",
      " [1]\n",
      " [2]]\n",
      "x+y:\n",
      "[[ 0  1  2  3]\n",
      " [ 5  6  7  8]\n",
      " [10 11 12 13]]\n"
     ]
    }
   ],
   "source": [
    "x = np.arange(12).reshape((3,4))\n",
    "y = np.arange(3).reshape((3,1))\n",
    "print('x:',x,'y:',y,'x+y:',x+y,sep='\\n')"
   ]
  },
  {
   "cell_type": "code",
   "execution_count": 3,
   "metadata": {},
   "outputs": [
    {
     "name": "stdout",
     "output_type": "stream",
     "text": [
      "[[0.09578311]\n",
      " [0.42078097]\n",
      " [0.53766698]]\n"
     ]
    }
   ],
   "source": [
    "print(np.random.uniform(size=(3,1)))"
   ]
  },
  {
   "cell_type": "code",
   "execution_count": 4,
   "metadata": {
    "scrolled": true
   },
   "outputs": [
    {
     "data": {
      "text/plain": [
       "array([[0.        , 0.00714286, 0.01428571, ..., 0.97857143, 0.98571429,\n",
       "        0.99285714],\n",
       "       [0.        , 0.00714286, 0.01428571, ..., 0.97857143, 0.98571429,\n",
       "        0.99285714],\n",
       "       [0.        , 0.00714286, 0.01428571, ..., 0.97857143, 0.98571429,\n",
       "        0.99285714],\n",
       "       ...,\n",
       "       [0.        , 0.00714286, 0.01428571, ..., 0.97857143, 0.98571429,\n",
       "        0.99285714],\n",
       "       [0.        , 0.00714286, 0.01428571, ..., 0.97857143, 0.98571429,\n",
       "        0.99285714],\n",
       "       [0.        , 0.00714286, 0.01428571, ..., 0.97857143, 0.98571429,\n",
       "        0.99285714]])"
      ]
     },
     "execution_count": 4,
     "metadata": {},
     "output_type": "execute_result"
    }
   ],
   "source": [
    "ss = np.linspace(0,1,140, endpoint=False)\n",
    "np.tile(ss, [800, 6])"
   ]
  },
  {
   "cell_type": "code",
   "execution_count": 5,
   "metadata": {},
   "outputs": [],
   "source": [
    "# Create and save file of sphere.\n",
    "res = 640\n",
    "x = y = np.linspace(-2, 2, res)\n",
    "X,Y = np.meshgrid(x,y)\n",
    "def f(x):\n",
    "    vals = (1 - (x[0]**2 + x[1]**2))\n",
    "    mask = vals < 0\n",
    "    vals[mask] = 0\n",
    "    vals = np.sqrt(vals) + 1\n",
    "    vals[mask] = 0\n",
    "    return vals\n",
    "Z = f([X,Y])\n",
    "sphere = ((Z / 2) * 256).astype(np.uint8)\n",
    "# print(np.min(Z),np.max(Z))\n",
    "# print(np.min(sphere),np.max(sphere))\n",
    "\n",
    "# imageio.imwrite('sphere.png', sphere)\n",
    "\n",
    "# plt.pcolormesh(X,Y,Z, cmap='gray')\n",
    "# plt.axis('equal')\n",
    "# plt.show()"
   ]
  },
  {
   "cell_type": "code",
   "execution_count": 6,
   "metadata": {},
   "outputs": [
    {
     "name": "stdout",
     "output_type": "stream",
     "text": [
      "0.7353277807866851\n"
     ]
    }
   ],
   "source": [
    "h = (.35**2 + .5**2)**.5 + .125\n",
    "print(h)"
   ]
  },
  {
   "cell_type": "code",
   "execution_count": 16,
   "metadata": {},
   "outputs": [],
   "source": [
    "# Smiley helper functions.\n",
    "def left_eye(x, off=True):\n",
    "    \"\"\"Uses meshgrid.\"\"\"\n",
    "    # Define eye region.\n",
    "    vals = ((.125)**2 - ((x[0] + .35)**2 + (x[1] - .4)**2))\n",
    "    mask = vals < 0\n",
    "#     # Zero other regions.\n",
    "#     vals[mask] = 0\n",
    "#     vals /= np.max(vals)\n",
    "#     vals = vals**.8\n",
    "    # One level eye.\n",
    "    vals[~mask] = .05\n",
    "    vals[mask] = 0\n",
    "    if off:\n",
    "        vals[vals != 0] += 1\n",
    "    return vals\n",
    "\n",
    "def right_eye(x, off=True):\n",
    "    \"\"\"Uses meshgrid.\"\"\"\n",
    "    # Define eye region.\n",
    "    vals = ((.125)**2 - ((x[0] - .35)**2 + (x[1] - .4)**2))\n",
    "    mask = vals < 0\n",
    "#     # Zero other regions.\n",
    "#     vals[mask] = 0\n",
    "#     vals /= np.max(vals)\n",
    "#     vals = vals**.8\n",
    "    # One level eye.\n",
    "    vals[~mask] = .05\n",
    "    vals[mask] = 0\n",
    "    if off:\n",
    "        vals[vals != 0] += 1\n",
    "    return vals\n",
    "\n",
    "def smile1(x, off=True):\n",
    "    \"\"\"An open mouth smile.\n",
    "    Uses meshgrid.\"\"\"\n",
    "    m,n = x[0].shape\n",
    "    # Define smile region.\n",
    "    vals = ((3./5)**2 - (x[0]**2 + x[1]**2))\n",
    "    mask = vals < 0\n",
    "    # Zero other regions.\n",
    "    vals[mask] = 0\n",
    "    if off:\n",
    "        vals /= np.max(vals)\n",
    "        vals[~mask] = 1\n",
    "    else:\n",
    "        # One level smile\n",
    "        vals[~mask] = -.05    \n",
    "    vals[m//2:] = 0\n",
    "    return vals\n",
    "\n",
    "def smile2(x, off=True):\n",
    "    \"\"\"A curved mouth smile. \n",
    "    Uses meshgrid.\"\"\"\n",
    "    m,n = x[0].shape\n",
    "    # Create smile regions.\n",
    "    circ = ((x[0])**2 + (x[1])**2)\n",
    "    vals = ((2./3)**2 - circ)\n",
    "    novals = ((1./2)**2 - circ)\n",
    "    mask1 = vals < 0\n",
    "    mask2 = novals < 0\n",
    "    # Zero other regions.\n",
    "    if off:\n",
    "        # Peak the center line of the smile.\n",
    "        mx = np.max(vals)\n",
    "        vals = (mx/2 - np.abs(vals - mx/2))\n",
    "        # Normalize between [0,1] then add 1.\n",
    "        vals /= np.max(vals)\n",
    "        vals[~mask] += 1\n",
    "    else:\n",
    "        # One level smile.\n",
    "        vals[~mask1] = .05\n",
    "    vals[~mask2 + mask1] = 0\n",
    "    vals[m//2:] = 0\n",
    "    return vals\n",
    "\n",
    "def face1(x):\n",
    "    \"\"\"A standard popout face outline. \n",
    "    Uses meshgrid.\"\"\"\n",
    "    vals = ((23./20)**2 - (x[0]**2 + x[1]**2))\n",
    "    novals = ((19./20)**2 - (x[0]**2 + x[1]**2))\n",
    "    mask1 = vals < 0\n",
    "    mask2 = novals < 0\n",
    "    vals[~mask2 + mask1] = 0\n",
    "    # Normalize values between [0,1]\n",
    "    mx = np.max(vals)\n",
    "    vals = (mx/2 - np.abs(vals - mx/2))**.8\n",
    "#     vals = (mx/2 - np.abs(vals - mx/2))\n",
    "    vals /= np.max(vals)\n",
    "    vals[vals != 0] += 1\n",
    "    return vals\n",
    "\n",
    "def face2(x, r):\n",
    "    \"\"\"A standard one level face at radius r.\n",
    "    Uses meshgrid.\"\"\"\n",
    "    # Define face region.\n",
    "    vals = ((r)**2 - (x[0]**2 + x[1]**2))\n",
    "    mask1 = vals < 0\n",
    "    # Zero other regions.\n",
    "    vals[mask1] = 0\n",
    "    vals[~mask1] = .25\n",
    "    return vals\n",
    "\n",
    "def face_grad(xy_mesh, R, r):\n",
    "    \"\"\"Uses [X,Y] meshgrid.\n",
    "    R is outside radius and r is ridge radius.\n",
    "    \"\"\"\n",
    "    x = xy_mesh\n",
    "    m,n = x[0].shape\n",
    "    # Define face regions.\n",
    "    circ = (x[0]**2 + x[1]**2)\n",
    "    Rvals = ((R)**2 - circ)\n",
    "    rvals = ((r)**2 - circ)\n",
    "    Rmask = Rvals < 0\n",
    "    rmask = rvals < 0\n",
    "    # Zero other regions.\n",
    "    Rvals[Rmask + ~rmask] = 0\n",
    "    Rmx = np.max(Rvals)\n",
    "    Rvals /= Rmx\n",
    "    Rvals[~rmask] = .25\n",
    "    # For separating from the background.\n",
    "#     Rvals[Rvals != 0] += 1\n",
    "    # For extending from the background.\n",
    "#     Rvals[Rvals != 0] *=2\n",
    "    \n",
    "    return Rvals"
   ]
  },
  {
   "cell_type": "code",
   "execution_count": 20,
   "metadata": {},
   "outputs": [],
   "source": [
    "def smiley_grad(smile=1, r=1, res=480):\n",
    "    \"\"\"Return arrays of smiley 1 or 2 using the radii R, r, at the given resolution.\n",
    "    Returns the mesh (X,Y,Z) with smiley in Z\"\"\"\n",
    "    factor = 1.2\n",
    "    dist = factor*r\n",
    "    y = np.linspace(-dist, dist, res)\n",
    "    x = np.linspace(-factor*dist, factor*dist, int(factor*res))\n",
    "    XY = np.meshgrid(x,y)\n",
    "    # Check defined smileys.\n",
    "    smiles = (1,2)\n",
    "    if smile==1:\n",
    "        Z = face2(XY, r) + smile1(XY, False) + left_eye(XY, False) + right_eye(XY, False)\n",
    "    elif smile==2:\n",
    "        Z = face2(XY, r) + smile2(XY, False) + left_eye(XY, False) + right_eye(XY, False)\n",
    "    else:\n",
    "        raise ValueError(\"Smile must be in {}\".format(smiles))\n",
    "    X,Y = XY\n",
    "    return X,Y,Z"
   ]
  },
  {
   "cell_type": "code",
   "execution_count": 24,
   "metadata": {},
   "outputs": [
    {
     "data": {
      "image/png": "[encoded data removed]",
      "text/plain": [
       "<Figure size 432x288 with 1 Axes>"
      ]
     },
     "metadata": {
      "needs_background": "light"
     },
     "output_type": "display_data"
    }
   ],
   "source": [
    "smi = 1\n",
    "r = .9\n",
    "res = 480\n",
    "X,Y,Z = smiley_grad(smi, r, res)\n",
    "smile = (Z / 2 * 255).astype(np.uint8)\n",
    "if smi == 1:\n",
    "    imageio.imwrite('smiley1.png', smile[::-1])\n",
    "elif smi == 2:\n",
    "    imageio.imwrite('smiley2.png', smile[::-1])\n",
    "\n",
    "plt.pcolormesh(X,Y,Z, cmap='gray')\n",
    "plt.axis('equal')\n",
    "plt.show()"
   ]
  },
  {
   "cell_type": "code",
   "execution_count": null,
   "metadata": {},
   "outputs": [],
   "source": []
  }
 ],
 "metadata": {
  "kernelspec": {
   "display_name": "Python 3 (ipykernel)",
   "language": "python",
   "name": "python3"
  },
  "language_info": {
   "codemirror_mode": {
    "name": "ipython",
    "version": 3
   },
   "file_extension": ".py",
   "mimetype": "text/x-python",
   "name": "python",
   "nbconvert_exporter": "python",
   "pygments_lexer": "ipython3",
   "version": "3.10.4"
  }
 },
 "nbformat": 4,
 "nbformat_minor": 2
}
