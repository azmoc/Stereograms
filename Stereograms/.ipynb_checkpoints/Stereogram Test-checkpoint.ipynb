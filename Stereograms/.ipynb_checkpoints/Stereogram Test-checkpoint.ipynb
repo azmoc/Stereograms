{
 "cells": [
  {
   "cell_type": "code",
   "execution_count": 1,
   "metadata": {},
   "outputs": [],
   "source": [
    "import numpy as np\n",
    "import imageio\n",
    "from matplotlib import pyplot as plt"
   ]
  },
  {
   "cell_type": "code",
   "execution_count": 2,
   "metadata": {},
   "outputs": [
    {
     "name": "stdout",
     "output_type": "stream",
     "text": [
      "(480, 700)\n"
     ]
    }
   ],
   "source": [
    "# A test to change pattern width top to bottom.\n",
    "nearw, farw, h, res = 120, 140, 480, 5\n",
    "size = (h,farw)\n",
    "size_r = (farw,h)\n",
    "# 1400 / 140 = 10\n",
    "# 1400 / 120 = 35/3\n",
    "# go from 10 140-pixel strips to 35/3 120-pixel strips\n",
    "offset = (farw*res/nearw - farw*res/farw) / 2\n",
    "image = np.linspace(0, res, farw*res) % 1\n",
    "for k in range(h - 1):\n",
    "    off = offset * (k / h) # linear offset\n",
    "    strip = (np.linspace(0 - off, res + off, farw*res)) % 1\n",
    "    image = np.vstack((image,strip))\n",
    "print(image.shape)\n",
    "# # image = np.tile(strip, [960,1])\n",
    "# fig = plt.figure(figsize=(12,12))\n",
    "# plt.imshow(image,cmap='hsv')\n",
    "# plt.show()"
   ]
  },
  {
   "cell_type": "code",
   "execution_count": 3,
   "metadata": {
    "scrolled": false
   },
   "outputs": [
    {
     "name": "stdout",
     "output_type": "stream",
     "text": [
      "(480, 840)\n"
     ]
    }
   ],
   "source": [
    "# A test to offset each row.\n",
    "nearw, farw, h, res = 120, 140, 480, 6\n",
    "n = farw * res\n",
    "# size = (h,farw)\n",
    "# size_r = (farw,h)\n",
    "\n",
    "# 1400 / 140 = 10\n",
    "# 1400 / 120 = 35/3\n",
    "# Go from 10 140-pixel strips to 35/3 120-pixel strips\n",
    "# offset=(140 * 10 / 120 - 140 * 10 / 140) / 2\n",
    "offset = (n/nearw - n/farw) / 2\n",
    "# print(offset) = 50/60\n",
    "# Color Variance\n",
    "cvar = 10\n",
    "image = (np.linspace(0, res, n)) % 1\n",
    "roff = 0\n",
    "for k in range(h - 1):\n",
    "    # there are 2*off + res (10) strips\n",
    "    # each strip is  res*farw [1400] / (2*off + res [10]) pixels wide\n",
    "    off = offset * (k / h) # linear offset\n",
    "    roff += np.random.uniform(-1,1) / cvar\n",
    "    strip = (np.linspace(0 - off, res + off, n) + (roff)) % 1\n",
    "    image = np.vstack((image,strip))\n",
    "# image = np.tile(strip, [960,1])\n",
    "print(image.shape)\n",
    "# fig = plt.figure(figsize=(12,12))\n",
    "# plt.imshow(image,cmap='hsv')\n",
    "# plt.show()"
   ]
  },
  {
   "cell_type": "code",
   "execution_count": 4,
   "metadata": {},
   "outputs": [
    {
     "name": "stdout",
     "output_type": "stream",
     "text": [
      "(560, 790, 3)\n",
      "0.0 231.33333333333334\n"
     ]
    }
   ],
   "source": [
    "# from scipy import misc\n",
    "# rac = misc.face()\n",
    "# rac_g = np.mean(rac, axis=2)\n",
    "# m,n = rac_g.shape\n",
    "# print('Picture Shape:', rac_g.shape)\n",
    "# fig = plt.figure(figsize=(12,12))\n",
    "# plt.imshow(rac_g, cmap='ocean')\n",
    "# plt.show()\n",
    "\n",
    "\n",
    "# Show the original image.\n",
    "saturn = imageio.imread('saturn.png')\n",
    "# imageio.imwrite('shark.png', saturn[:,130:])\n",
    "print(saturn.shape)\n",
    "if len(saturn.shape) == 3:\n",
    "    sat_g = np.mean(saturn, axis=2)\n",
    "else:\n",
    "    sat_g = saturn\n",
    "print(np.min(sat_g), np.max(sat_g))\n",
    "# fig = plt.figure(figsize=(12,12))\n",
    "# plt.imshow(sat_g, cmap='gray')\n",
    "# plt.show()"
   ]
  },
  {
   "cell_type": "code",
   "execution_count": 5,
   "metadata": {},
   "outputs": [],
   "source": [
    "# # Very Slow Algorithm with Bad Coloring\n",
    "# def gen_row(strip, off):\n",
    "#     for i in range(wi):\n",
    "# #         print(strip.shape)\n",
    "#         pixel = strip[i + off[i]]\n",
    "# #         print(pixel)\n",
    "#         strip = np.append(strip, pixel)\n",
    "#         yield pixel\n",
    "# row = np.append(strip, np.array([pixel for pixel in gen_row(strip, offset[0])]))\n",
    "# # row = np.linspace(0, res, n) + np.random.uniform(-1, 1, n) / cvar\n",
    "# image = row\n",
    "# for off in offset[1:]:\n",
    "#     # For linear offset.\n",
    "#     # offset = (n/nearw - n/farw) / 2\n",
    "#     # off = offset * (k / m)\n",
    "#     strip = (strip + np.random.uniform(-1, 1) / cvar) % 1\n",
    "#     row = np.append(strip, np.array([pixel for pixel in gen_row(strip, off)]))\n",
    "#     image = np.vstack((image, row))\n",
    "# print(image.shape)\n",
    "# # image = np.tile(strip, [960,1])\n",
    "# plt.imshow(image,cmap='hsv')\n",
    "# plt.show()"
   ]
  },
  {
   "cell_type": "code",
   "execution_count": 22,
   "metadata": {},
   "outputs": [],
   "source": [
    "# A faster random-dot stereogram generator.\n",
    "def stereogram(filename='saturn.png', maxshift=140, stripe=None, cmap=None, save_file=False, show=False):\n",
    "    \"\"\"Makes Stereograms, also known as Magic-eye\"\"\"\n",
    "    # Image of overlay, with 'brightness' being the depth.\n",
    "    pattern = imageio.imread(filename)\n",
    "    if len(pattern.shape) == 4:\n",
    "        pattern = np.mean(pattern[:,:,:3], axis=2)\n",
    "    elif len(pattern.shape) == 3:\n",
    "        pattern = np.mean(pattern, axis=2)\n",
    "    he, wi = pattern.shape\n",
    "\n",
    "    # 1/6 total pixels left margin.\n",
    "    far, near = wi // 6, wi // 8\n",
    "    \n",
    "    diff = far - near\n",
    "    if save_file:\n",
    "        print('far:', far, 'near:', near, 'diff:', diff, 'maxshift:', maxshift)\n",
    "    diff = np.min((diff, maxshift))\n",
    "    \n",
    "    m, n = he, wi + far\n",
    "    # Color Variance.\n",
    "    cvar = 10\n",
    "\n",
    "    a, b = np.min(pattern), np.max(pattern)\n",
    "    if save_file:\n",
    "        print('min:', a, 'max:', b)\n",
    "    # Offset is array of image size with values in [0, 40].\n",
    "    offset = np.round(diff * ((pattern - a) / (b - a))).astype(int)\n",
    "    if save_file:\n",
    "        print('new min:', np.min(offset), 'new max:', np.max(offset))\n",
    "\n",
    "    # Create Background starter with m rows of color.\n",
    "    if stripe is None:\n",
    "#         barr = far // diff\n",
    "#         mids = far - barr\n",
    "        mids = far\n",
    "        background = np.random.uniform(0, 1, size=(m, mids))\n",
    "#         edges = np.round(np.random.rand(m, barr)) / 2\n",
    "#         background = np.append(background, edges, axis=1)\n",
    "#         print('strip shape:',background.shape)\n",
    "    else:\n",
    "        strip = stripe[:,:,:3]\n",
    "        dim = strip.shape\n",
    "        j,k = dim[0], dim[1]\n",
    "        # <=140 is for good viewing.\n",
    "        far = max((far, k))\n",
    "        r_rows = m // j + 1\n",
    "        r_cols = far // k + 1\n",
    "        # Grayscale must tile differently.\n",
    "        if cmap is None:\n",
    "            background = np.tile(strip, [r_rows, r_cols, 1])[:m,:far]\n",
    "        else:\n",
    "            strip = np.mean(strip, axis=2)\n",
    "            background = np.tile(strip, [r_rows, r_cols])[:m,:far]\n",
    "#     roff = 0\n",
    "#     rowsoff = [0,]\n",
    "#     for _ in range(m - 1):\n",
    "#         roff += np.random.uniform(-1, 1) / cvar\n",
    "#         rowsoff.append(roff)\n",
    "#     background = (background + np.array(rowsoff).reshape((m,1))) % 1\n",
    "\n",
    "    # Generate the image\n",
    "    #### not finished for (m,n,p) background\n",
    "    def gen_rows(backg, off):\n",
    "        if stripe is None:\n",
    "            for i in range(wi):\n",
    "                # col = background[ rows, cols ] # Fancy Indexing.\n",
    "                col = backg[np.arange(m), i + off[:,i]].reshape((m,1))\n",
    "                backg = np.append(backg, col, axis=1)\n",
    "        else:\n",
    "            for i in range(wi):\n",
    "                # col = background[ rows, cols, lines ] # Fancy Indexing.\n",
    "                col = backg[np.arange(m), i + off[:,i], :].reshape((m,1,3))\n",
    "                backg = np.append(backg, col, axis=1)\n",
    "        return backg\n",
    "    \n",
    "    image = gen_rows(background, offset)\n",
    "    if save_file:\n",
    "        print('image shape:', image.shape)\n",
    "        print('cmap:', cmap)\n",
    "        mx = np.max(image)\n",
    "        image = (image * 255 / mx).astype(np.uint8)\n",
    "        i = filename.find('.')\n",
    "        plt.imsave(filename[:i] + 'stereogram.png', image, cmap=cmap)\n",
    "\n",
    "    if show:\n",
    "        # Estimates a good figure size.\n",
    "        fig_sz = int(max([10 * m / n, 13]))\n",
    "        print('figure size:', fig_sz)\n",
    "        fig = plt.figure(figsize=(fig_sz, fig_sz))\n",
    "        plt.imshow(image, cmap=cmap)\n",
    "        plt.axis(\"off\")\n",
    "        plt.show()\n",
    "    \n",
    "    # include ability to input a pattern strip\n",
    "    \n",
    "    # output in color, random or like cmaps\n",
    "    \n",
    "    # make a mild structure to the strip, randomize 4/5 rows and every 5th has structure\n",
    "    \n",
    "    # half width and double the pattern repetition so the construction is not visible"
   ]
  },
  {
   "cell_type": "code",
   "execution_count": 23,
   "metadata": {},
   "outputs": [],
   "source": [
    "\"\"\"\n",
    "Primary Color maps:\n",
    "viridis, plasma, winter, copper, coolwarm, \n",
    "ocean, gist_earth, terrain, gist_stern, gnuplot, gnuplot2, CMRmap, \n",
    "cubehelix, gist_rainbow, rainbow, nipy_spectral, gist_ncar, \n",
    "flag, pink, PiYG, PRGn, BrBG, PuOr, RdGy, RdBu, RdYlBu, RdYlGn, Spectral, bwr\n",
    "\"\"\"\n",
    "\n",
    "cmaps = ['viridis', 'plasma', 'inferno', 'magma', 'winter', 'copper', 'coolwarm', \\\n",
    "         'ocean', 'gist_earth', 'terrain', 'gist_stern', 'gnuplot', 'gnuplot2', 'CMRmap', \\\n",
    "         'cubehelix', 'gist_rainbow', 'rainbow', 'nipy_spectral', 'gist_ncar', \\\n",
    "         'flag', 'pink', 'PiYG', 'PRGn', 'BrBG', 'PuOr', \\\n",
    "         'RdGy', 'RdBu', 'RdYlBu', 'RdYlGn', 'Spectral', 'bwr', \\\n",
    "         'Paired', 'Accent', 'tab20', 'tab20b', 'tab20c', 'hot', 'amfhot', 'gist_heat', \\\n",
    "         'Greys', 'Purples', 'Blues', 'Greens', 'Oranges', 'Reds', 'YlOrBr', 'YlOrRd', 'OrRd', \\\n",
    "         'PuRd', 'RdPu', 'BuPu', 'GnBu', 'PuBu', 'YlGnBu', 'PuBuGn', 'BuGn', 'YlGn', 'gray', 'bone']"
   ]
  },
  {
   "cell_type": "code",
   "execution_count": 24,
   "metadata": {},
   "outputs": [],
   "source": [
    "\"\"\"\n",
    "CC BY-SA 3.0, https://commons.wikimedia.org/w/index.php?curid=72063\n",
    "\"\"\"\n",
    "stripe = imageio.imread('RidingTigersPattern.png')\n",
    "# fig = plt.figure(figsize=(10,10))\n",
    "# plt.imshow(stripe)\n",
    "# plt.show()"
   ]
  },
  {
   "cell_type": "code",
   "execution_count": 49,
   "metadata": {
    "scrolled": false
   },
   "outputs": [],
   "source": [
    "# To get the stereogram.\n",
    "save = 1\n",
    "maxd = 20\n",
    "gr = 0\n",
    "sh = 1\n",
    "color = 'ocean'\n",
    "stripe = None\n",
    "# stereogram('shark.png', stripe=stripe, maxshift=maxd, cmap=color, save_file=save, show=sh)\n",
    "# for cmap in cmaps:\n",
    "#     stereogram('smiley1.png', maxshift=maxd, cmap=cmap, save_file=save)"
   ]
  },
  {
   "cell_type": "code",
   "execution_count": null,
   "metadata": {},
   "outputs": [],
   "source": []
  }
 ],
 "metadata": {
  "kernelspec": {
   "display_name": "Python 3 (ipykernel)",
   "language": "python",
   "name": "python3"
  },
  "language_info": {
   "codemirror_mode": {
    "name": "ipython",
    "version": 3
   },
   "file_extension": ".py",
   "mimetype": "text/x-python",
   "name": "python",
   "nbconvert_exporter": "python",
   "pygments_lexer": "ipython3",
   "version": "3.10.4"
  }
 },
 "nbformat": 4,
 "nbformat_minor": 2
}
