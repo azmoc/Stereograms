{
 "cells": [
  {
   "cell_type": "code",
   "execution_count": 1,
   "metadata": {},
   "outputs": [],
   "source": [
    "import numpy as np\n",
    "import imageio\n",
    "from matplotlib import pyplot as plt"
   ]
  },
  {
   "cell_type": "code",
   "execution_count": 2,
   "metadata": {},
   "outputs": [],
   "source": [
    "# TODOS:\n",
    "# Is there a way to smooth out the levels? Averaging pixel values?\n",
    "# Is there a way to control the resolution of pixel detail independently of the input image resolution?\n",
    "# ?include ability to input a depth_map strip\n",
    "# ?output in color, random or like cmaps\n",
    "# ?make a mild structure to the random dot strip, randomize 4/5 rows and every 5th has structure\n",
    "# ?half width and double the depth_map repetition so the construction is not visible"
   ]
  },
  {
   "cell_type": "code",
   "execution_count": 3,
   "metadata": {},
   "outputs": [],
   "source": [
    "# Helper function.\n",
    "def image_read(filename='saturn.png'):\n",
    "    \"\"\"Use imageio to read depth map.\"\"\"\n",
    "    depth_map = imageio.imread(filename)\n",
    "    if len(depth_map.shape) == 4: #RGBA\n",
    "        depth_map = np.mean(depth_map[:,:,:3], axis=2)\n",
    "    elif len(depth_map.shape) == 3: #RGB\n",
    "        depth_map = np.mean(depth_map, axis=2)\n",
    "    return depth_map"
   ]
  },
  {
   "cell_type": "code",
   "execution_count": 4,
   "metadata": {},
   "outputs": [],
   "source": [
    "# Helper function for make_background().\n",
    "def random_dot_background(m_rows, far_wi):\n",
    "    \"\"\"Generate strip of random dot values.\"\"\"\n",
    "    strip_width = far_wi\n",
    "#     background = np.random.uniform(0, 1, size=(m_rows, strip_width))\n",
    "    background = np.random.normal(0, .1, size=(m_rows, strip_width))\n",
    "    background = np.cumsum(np.cumsum(background, axis=0), axis=1) % 1\n",
    "    \n",
    "#     # Color Variance (bigger means larger shifts).\n",
    "#     cvar = .1\n",
    "#     roff = 0\n",
    "#     rowsoff = [0,]\n",
    "#     for _ in range(m_rows - 1):\n",
    "#         roff += np.random.uniform(-1, 1) * cvar\n",
    "#         rowsoff.append(roff)\n",
    "#     background = (background + np.array(rowsoff).reshape((m_rows,1))) % 1\n",
    "    return background"
   ]
  },
  {
   "cell_type": "code",
   "execution_count": 5,
   "metadata": {},
   "outputs": [],
   "source": [
    "# Helper function.\n",
    "def make_background(stripe, cmap, m_rows, far_wi):\n",
    "    \"\"\"Create Background starter with m_rows rows of color.\"\"\"\n",
    "    if stripe is None:\n",
    "        background = random_dot_background(m_rows, far_wi)\n",
    "        return background\n",
    "    strip = stripe[:,:,:3]\n",
    "    dim = strip.shape\n",
    "    j, k = dim[0], dim[1]\n",
    "    # Width <= 140 is for good viewing.\n",
    "#     far_wi = max((far_wi, k))\n",
    "    repeat_rows = m_rows // j + 1\n",
    "    repeat_cols = far_wi // k + 1\n",
    "    # Grayscale must tile differently.\n",
    "    if cmap is None:\n",
    "        background = np.tile(strip, [repeat_rows, repeat_cols, 1])[:m_rows,:far_wi]\n",
    "    else:\n",
    "        strip = np.mean(strip, axis=2)\n",
    "        background = np.tile(strip, [repeat_rows, repeat_cols])[:m_rows,:far_wi]\n",
    "    return background"
   ]
  },
  {
   "cell_type": "code",
   "execution_count": 6,
   "metadata": {},
   "outputs": [],
   "source": [
    "# Helper function.\n",
    "#### ?not finished for (m_rows,n_cols,p) background\n",
    "def gen_rows(stripe, backg, off_map, m_rows, wi, cmap):\n",
    "    \"\"\"Generate the image using depth map as pixel offset.\"\"\"\n",
    "    if stripe is not None and cmap is None:\n",
    "        for i in range(wi):\n",
    "            # Fancy Indexing: col = background[ rows, cols ] (i.e. specify wanted pixels).\n",
    "            col = backg[np.arange(m_rows), i + off_map[:,i]].reshape((m_rows,1,3))\n",
    "            backg = np.append(backg, col, axis=1)\n",
    "            \n",
    "    else:\n",
    "        for i in range(wi):\n",
    "            # Fancy Indexing: col = background[ rows, cols ].\n",
    "            col = backg[np.arange(m_rows), i + off_map[:,i]].reshape((m_rows,1))\n",
    "            backg = np.append(backg, col, axis=1)\n",
    "    return backg"
   ]
  },
  {
   "cell_type": "code",
   "execution_count": 7,
   "metadata": {},
   "outputs": [],
   "source": [
    "# Helper function.\n",
    "def save_file(filename, image, cmap):\n",
    "    \"\"\"Save new image using filename as base.\"\"\"\n",
    "    print('image shape:', image.shape)\n",
    "    print('cmap:', cmap)\n",
    "    mx = np.max(image)\n",
    "    image = (image * 255 / mx).astype(np.uint8)\n",
    "    i = filename.find('.')\n",
    "    plt.imsave(filename[:i] + 'stereogram.png', image, cmap=cmap)"
   ]
  },
  {
   "cell_type": "code",
   "execution_count": 8,
   "metadata": {},
   "outputs": [],
   "source": [
    "# Helper function.\n",
    "def show_image(m_rows, n_cols, cmap, image):\n",
    "    \"\"\"Show the image.\"\"\"\n",
    "    # Estimates a good figure size.\n",
    "    fig_sz = int(max([10 * m_rows / n_cols, 10]))\n",
    "    print('figure size:', fig_sz)\n",
    "    print(f'cmap: {cmap}')\n",
    "    fig = plt.figure(figsize=(fig_sz, fig_sz))\n",
    "    plt.imshow(image, cmap=cmap)\n",
    "    plt.axis(\"off\")\n",
    "    plt.show()"
   ]
  },
  {
   "cell_type": "code",
   "execution_count": 9,
   "metadata": {},
   "outputs": [],
   "source": [
    "# This box holds a function (a faster random-dot stereogram generator) using an inner function.\n",
    "def stereogram(filename='saturn.png', maxshift=140, stripe=None, cmap=None, saving_file=False, showing=False):\n",
    "    \"\"\"Makes Autostereograms, also known as Magic-eye Illusions\n",
    "    Note: Max depth and min depth are normalized\"\"\"\n",
    "    # Image of overlay, with grayscale brightness being the depth.\n",
    "    depth_map = image_read(filename)\n",
    "    # Would like to scale the depth according to max possible depth\n",
    "    uint8_max = 256 if np.issubdtype(depth_map.dtype, np.uint8) else None\n",
    "    he, wi = depth_map.shape\n",
    "\n",
    "    # 1/6 total width is for far offset, 1/8 for near offset\n",
    "    # They scale with depth map resolution\n",
    "    far_wi, near_wi = wi // 6, wi // 8\n",
    "    minshift = far_wi - near_wi\n",
    "    if saving_file or showing:\n",
    "        print(f'far width shift: {far_wi}, near width shift: {near_wi}, '\n",
    "              f'diff: {minshift}, upper bound shift: {maxshift}')\n",
    "    \n",
    "    # Max pixel shift is not more than maxshift argument\n",
    "    shift_diff = np.min((minshift, maxshift))\n",
    "    map_min, map_max = np.min(depth_map), np.max(depth_map)\n",
    "    print(f'depth map min: {map_min}, depth map max: {map_max}')\n",
    "    if uint8_max is not None:\n",
    "        shift_diff = shift_diff*(map_max - map_min) / uint8_max\n",
    "    \n",
    "    # offset_map is array of image shape with integer values in [0, shift_diff].\n",
    "    offset_map = np.round(shift_diff * ((depth_map - map_min) / (map_max - map_min))).astype(int)\n",
    "    print(f'new min: {np.min(offset_map)}, new max: {np.max(offset_map)}')\n",
    "    \n",
    "    # n_cols is for figure size only\n",
    "    m_rows, n_cols = he, wi + shift_diff\n",
    "    background = make_background(stripe, cmap, m_rows, far_wi)\n",
    "    print(f'strip shape: {background.shape}')\n",
    "    \n",
    "    image = gen_rows(stripe, background, offset_map, m_rows, wi, cmap)\n",
    "    \n",
    "    if saving_file:\n",
    "        save_file(filename, image, cmap)\n",
    "\n",
    "    if showing:\n",
    "        show_image(m_rows, n_cols, cmap, image)"
   ]
  },
  {
   "cell_type": "code",
   "execution_count": 10,
   "metadata": {},
   "outputs": [],
   "source": [
    "\"\"\"\n",
    "Primary Color maps:\n",
    "viridis, plasma, winter, copper, coolwarm, \n",
    "ocean, gist_earth, terrain, gist_stern, gnuplot, gnuplot2, CMRmap, \n",
    "cubehelix, gist_rainbow, rainbow, nipy_spectral, gist_ncar, \n",
    "flag, pink, PiYG, PRGn, BrBG, PuOr, RdGy, RdBu, RdYlBu, RdYlGn, Spectral, bwr\n",
    "\"\"\"\n",
    "\n",
    "cmaps = ['viridis', 'plasma', 'inferno', 'magma', 'cividis',\n",
    "            'Greys', 'Purples', 'Blues', 'Greens', 'Oranges', 'Reds',\n",
    "            'YlOrBr', 'YlOrRd', 'OrRd', 'PuRd', 'RdPu', 'BuPu',\n",
    "            'GnBu', 'PuBu', 'YlGnBu', 'PuBuGn', 'BuGn', 'YlGn',\n",
    "            'binary', 'gist_yarg', 'gist_gray', 'gray', 'bone', 'pink',\n",
    "            'spring', 'summer', 'autumn', 'winter', 'cool', 'Wistia',\n",
    "            'hot', 'afmhot', 'gist_heat', 'copper',\n",
    "            'PiYG', 'PRGn', 'BrBG', 'PuOr', 'RdGy', 'RdBu',\n",
    "            'RdYlBu', 'RdYlGn', 'Spectral', 'coolwarm', 'bwr', 'seismic',\n",
    "            'twilight', 'twilight_shifted', 'hsv',\n",
    "#             'Pastel1', 'Pastel2', 'Paired', 'Accent', 'Dark2', \n",
    "#             'Set1', 'Set2', 'Set3', 'tab10', 'tab20', 'tab20b', 'tab20c', 'flag', 'prism', \n",
    "            'ocean', 'gist_earth', 'terrain', 'gist_stern',\n",
    "            'gnuplot', 'gnuplot2', 'CMRmap', 'cubehelix', 'brg',\n",
    "            'gist_rainbow', 'rainbow', 'jet', 'turbo', 'nipy_spectral',\n",
    "            'gist_ncar']"
   ]
  },
  {
   "cell_type": "code",
   "execution_count": 11,
   "metadata": {},
   "outputs": [],
   "source": [
    "\"\"\"\n",
    "CC BY-SA 3.0, https://commons.wikimedia.org/w/index.php?curid=72063\n",
    "\"\"\"\n",
    "stripe = imageio.imread('RidingTigersPattern.png')\n",
    "# fig = plt.figure(figsize=(10,10))\n",
    "# plt.imshow(stripe)\n",
    "# plt.show()"
   ]
  },
  {
   "cell_type": "code",
   "execution_count": null,
   "metadata": {},
   "outputs": [],
   "source": [
    "# This box will produce a stereogram.\n",
    "# Type the name of the file for the depth map.\n",
    "# Also type the name of the file for the stripe pattern. If None, it will produce a colormap.\n",
    "\n",
    "# depth_map = 'globe.jpg'\n",
    "# depth_map = 'smiley1.png'\n",
    "depth_map = 'saturn.png'\n",
    "# stripe = 'RidingTigersPattern.png'\n",
    "stripe = None\n",
    "\n",
    "if stripe is not None:\n",
    "    stripe = imageio.imread(stripe)\n",
    "\n",
    "# To get the stereogram.\n",
    "maxd = 50\n",
    "coloring = 'YlOrRd'\n",
    "# coloring = None\n",
    "saving = False\n",
    "showing = True\n",
    "\n",
    "stereogram(depth_map, stripe=stripe, maxshift=maxd, cmap=coloring, saving_file=saving, showing=showing)\n",
    "\n",
    "# for cmap in cmaps:\n",
    "#     stereogram('map.png', maxshift=maxd, cmap=cmap, saving_file=saving, showing=showing)"
   ]
  },
  {
   "cell_type": "code",
   "execution_count": null,
   "metadata": {},
   "outputs": [],
   "source": []
  }
 ],
 "metadata": {
  "kernelspec": {
   "display_name": "Python 3 (ipykernel)",
   "language": "python",
   "name": "python3"
  },
  "language_info": {
   "codemirror_mode": {
    "name": "ipython",
    "version": 3
   },
   "file_extension": ".py",
   "mimetype": "text/x-python",
   "name": "python",
   "nbconvert_exporter": "python",
   "pygments_lexer": "ipython3",
   "version": "3.10.4"
  }
 },
 "nbformat": 4,
 "nbformat_minor": 2
}
