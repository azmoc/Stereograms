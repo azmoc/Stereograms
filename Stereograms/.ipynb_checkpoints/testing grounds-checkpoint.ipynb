{
 "cells": [
  {
   "cell_type": "code",
   "execution_count": 1,
   "metadata": {},
   "outputs": [],
   "source": [
    "import numpy as np\n",
    "from matplotlib import pyplot as plt\n",
    "import imageio"
   ]
  },
  {
   "cell_type": "code",
   "execution_count": 2,
   "metadata": {},
   "outputs": [
    {
     "name": "stdout",
     "output_type": "stream",
     "text": [
      "x:\n",
      "[[ 0  1  2  3]\n",
      " [ 4  5  6  7]\n",
      " [ 8  9 10 11]]\n",
      "y:\n",
      "[[0]\n",
      " [1]\n",
      " [2]]\n",
      "x+y:\n",
      "[[ 0  1  2  3]\n",
      " [ 5  6  7  8]\n",
      " [10 11 12 13]]\n"
     ]
    }
   ],
   "source": [
    "# Test reshape.\n",
    "x = np.arange(12).reshape((3,4))\n",
    "y = np.arange(3).reshape((3,1))\n",
    "print('x:',x,'y:',y,'x+y:',x+y,sep='\\n')"
   ]
  },
  {
   "cell_type": "code",
   "execution_count": 3,
   "metadata": {},
   "outputs": [
    {
     "name": "stdout",
     "output_type": "stream",
     "text": [
      "[[0.04740376]\n",
      " [0.13524605]\n",
      " [0.65602964]]\n"
     ]
    }
   ],
   "source": [
    "# Test uniform distribution.\n",
    "print(np.random.uniform(size=(3,1)))"
   ]
  },
  {
   "cell_type": "code",
   "execution_count": 8,
   "metadata": {
    "scrolled": false
   },
   "outputs": [
    {
     "data": {
      "text/plain": [
       "array([[0, 1, 2, 0, 1, 2],\n",
       "       [0, 1, 2, 0, 1, 2],\n",
       "       [0, 1, 2, 0, 1, 2],\n",
       "       [0, 1, 2, 0, 1, 2],\n",
       "       [0, 1, 2, 0, 1, 2]])"
      ]
     },
     "execution_count": 8,
     "metadata": {},
     "output_type": "execute_result"
    }
   ],
   "source": [
    "tile_test = range(3)\n",
    "np.tile(tile_test, [5, 2])"
   ]
  },
  {
   "cell_type": "code",
   "execution_count": 21,
   "metadata": {},
   "outputs": [
    {
     "name": "stdout",
     "output_type": "stream",
     "text": [
      "X:\n",
      "[[-2. -1.  0.  1.  2.]\n",
      " [-2. -1.  0.  1.  2.]\n",
      " [-2. -1.  0.  1.  2.]\n",
      " [-2. -1.  0.  1.  2.]\n",
      " [-2. -1.  0.  1.  2.]]\n",
      "Y:\n",
      "[[-2. -2. -2. -2. -2.]\n",
      " [-1. -1. -1. -1. -1.]\n",
      " [ 0.  0.  0.  0.  0.]\n",
      " [ 1.  1.  1.  1.  1.]\n",
      " [ 2.  2.  2.  2.  2.]]\n"
     ]
    }
   ],
   "source": [
    "# Meshgrid test\n",
    "x = y = np.linspace(-2,2,5)\n",
    "X,Y = np.meshgrid(x,y)\n",
    "print(f\"X:\\n{X}\")\n",
    "print(f\"Y:\\n{Y}\")"
   ]
  },
  {
   "cell_type": "code",
   "execution_count": 2,
   "metadata": {},
   "outputs": [],
   "source": [
    "# Create data for unit sphere to save as file\n",
    "res = 640\n",
    "x = y = np.linspace(-2, 2, res)\n",
    "X, Y = np.meshgrid(x, y)\n",
    "# Returns function values\n",
    "# f(x,y) = { sqrt(1 - (x**2 + y**2)) + 1    if x**2 + y**2 <= 1,\n",
    "#          { 0                              otherwise.\n",
    "def unit_sphere(x, y):\n",
    "    z_vals = (1 - (x**2 + y**2))\n",
    "    neg_mask = z_vals < 0\n",
    "    z_vals[neg_mask] = 0\n",
    "    z_vals = np.sqrt(z_vals) + 1\n",
    "    z_vals[neg_mask] = 0\n",
    "    return z_vals\n",
    "# Nonzero values are between 1 and 2.\n",
    "Z = unit_sphere(X, Y)\n",
    "# Make values between 0 and 256.\n",
    "sphere = ((Z / 2) * 256).astype(np.uint8)\n",
    "\n",
    "# Print data and save file \"sphere.png\".\n",
    "\n",
    "# print(np.min(Z), np.max(Z))\n",
    "# print(np.min(sphere), np.max(sphere))\n",
    "\n",
    "# imageio.imwrite('sphere.png', sphere)\n",
    "\n",
    "# plt.pcolormesh(X,Y,Z, cmap='gray')\n",
    "# plt.axis('equal')\n",
    "# plt.show()"
   ]
  },
  {
   "cell_type": "code",
   "execution_count": 6,
   "metadata": {},
   "outputs": [
    {
     "name": "stdout",
     "output_type": "stream",
     "text": [
      "0.7353277807866851\n"
     ]
    }
   ],
   "source": [
    "# Test offsets\n",
    "h = (.35**2 + .5**2)**.5 + .125\n",
    "print(h)"
   ]
  },
  {
   "cell_type": "code",
   "execution_count": 6,
   "metadata": {},
   "outputs": [],
   "source": [
    "# Smiley helper functions pg1.\n",
    "def left_eye(xy_mesh, off=True):\n",
    "    \"\"\"Uses meshgrid.\"\"\"\n",
    "    # Define eye region.\n",
    "    x_offset = 0.35\n",
    "    y_offset = -0.4\n",
    "    vals = ((.125)**2 - ((xy_mesh[0] + x_offset)**2 + (xy_mesh[1] + y_offset)**2))\n",
    "    mask = vals < 0\n",
    "    # One level eye.\n",
    "    vals[~mask] = .05\n",
    "    # Zero other regions.\n",
    "    vals[mask] = 0\n",
    "    if off:\n",
    "        vals[~mask] += 1\n",
    "    return vals\n",
    "\n",
    "def right_eye(xy_mesh, off=True):\n",
    "    \"\"\"Uses meshgrid.\"\"\"\n",
    "    # Define eye region.\n",
    "    x_offset = -0.35\n",
    "    y_offset = -0.4\n",
    "    vals = ((.125)**2 - ((xy_mesh[0] + x_offset)**2 + (xy_mesh[1] + y_offset)**2))\n",
    "    mask = vals < 0\n",
    "    # One level eye.\n",
    "    vals[~mask] = .05\n",
    "    # Zero other regions.\n",
    "    vals[mask] = 0\n",
    "    if off:\n",
    "        vals[~mask] += 1\n",
    "    return vals\n"
   ]
  },
  {
   "cell_type": "code",
   "execution_count": 7,
   "metadata": {},
   "outputs": [],
   "source": [
    "# Smiley helper functions pg2.\n",
    "def smile1(xy_mesh, off=True):\n",
    "    \"\"\"An opened mouth smile.\n",
    "    Uses meshgrid.\"\"\"\n",
    "    m,n = xy_mesh[0].shape\n",
    "    # Define smile region.\n",
    "    radius = 3.0/5\n",
    "    vals = (radius)**2 - (xy_mesh[0]**2 + xy_mesh[1]**2)\n",
    "    mask = vals < 0\n",
    "    # Zero other regions.\n",
    "    vals[mask] = 0\n",
    "    if off:\n",
    "        vals /= np.max(vals)\n",
    "        vals[~mask] = 1\n",
    "    else:\n",
    "        # One level smile\n",
    "        vals[~mask] = -0.05\n",
    "    # Erase top half (which gets flipped when save file).\n",
    "    vals[m//2:] = 0\n",
    "    return vals\n",
    "\n",
    "def smile2(xy_mesh, off=True):\n",
    "    \"\"\"A closed mouth smile.\n",
    "    Uses meshgrid.\"\"\"\n",
    "    m,n = xy_mesh[0].shape\n",
    "    outer_r = 2.0/3\n",
    "    inner_r = 1.0/2\n",
    "    # Create smile regions.\n",
    "    circ = (xy_mesh[0])**2 + (xy_mesh[1])**2\n",
    "    vals = (outer_r)**2 - circ\n",
    "    novals = (inner_r)**2 - circ\n",
    "    mask1 = vals < 0\n",
    "    mask2 = novals < 0\n",
    "    # Peak the center line of the smile.\n",
    "    if off:\n",
    "        vals[~mask2 + mask1] = 0\n",
    "        mx = np.max(vals)\n",
    "        # Peak values around smile line, values between [0, mx/2].\n",
    "        vals = mx/2 - np.abs(vals - mx/2)\n",
    "        # Normalize nonzero values between [0,1].\n",
    "        vals /= np.max(vals)\n",
    "        # Add one.\n",
    "        vals[~mask] += 1\n",
    "    else:\n",
    "        # One level smile.\n",
    "        vals[~mask1] = .05\n",
    "    # Zero other regions.\n",
    "    vals[~mask2 + mask1] = 0\n",
    "    # Erase top half (which gets flipped when save file).\n",
    "    vals[m//2:] = 0\n",
    "    return vals\n",
    "\n",
    "def smile3(xy_mesh, off=True):\n",
    "    \"\"\"Opened mouth smile with depth.\n",
    "    Uses meshgrid.\"\"\"\n",
    "    m,n = xy_mesh[0].shape\n",
    "    # Define smile region.\n",
    "    radius = 3./5\n",
    "    vals = (radius)**2 - (xy_mesh[0]**2 + xy_mesh[1]**2)\n",
    "    mask = vals < 0\n",
    "    # Zero other regions.\n",
    "    vals[mask] = 0\n",
    "    # Put values between [-.15, -.05]\n",
    "    vals /= np.max(vals)*10\n",
    "    vals[~mask] += 1/20\n",
    "    vals *= -1\n",
    "    # Zero bottom half (which gets flipped when save file).\n",
    "    vals[m//2:] = 0\n",
    "    return vals"
   ]
  },
  {
   "cell_type": "code",
   "execution_count": 8,
   "metadata": {},
   "outputs": [],
   "source": [
    "# Smiley helper functions pg3.\n",
    "def face1(xy_mesh, r):\n",
    "    \"\"\"A standard popout face outline. \n",
    "    Uses meshgrid.\"\"\"\n",
    "    outer_r = 23./20 * r\n",
    "    inner_r = 19./20 * r\n",
    "    edge_vals = ((outer_r)**2 - (xy_mesh[0]**2 + xy_mesh[1]**2))\n",
    "    inner_vals = ((inner_r)**2 - (xy_mesh[0]**2 + xy_mesh[1]**2))\n",
    "    mask1 = edge_vals < 0\n",
    "    mask2 = inner_vals < 0\n",
    "    edge_vals[~mask2 + mask1] = 0\n",
    "    # Make the edge a ridge.\n",
    "    mx = np.max(edge_vals)\n",
    "#     edge_vals = (mx/2 - np.abs(edge_vals - mx/2))**0.8\n",
    "    edge_vals = (mx/2 - np.abs(edge_vals - mx/2))**1.0\n",
    "    # Normalize nonzero values between [0,0.1].\n",
    "    edge_vals /= np.max(edge_vals)*10\n",
    "#     edge_vals[edge_vals != 0] += 1\n",
    "    return edge_vals\n",
    "\n",
    "def face2(xy_mesh, r):\n",
    "    \"\"\"A standard one level face at radius r.\n",
    "    Uses meshgrid.\"\"\"\n",
    "    # Define face region.\n",
    "    vals = ((r)**2 - (xy_mesh[0]**2 + xy_mesh[1]**2))\n",
    "    mask1 = vals < 0\n",
    "    # Zero other regions.\n",
    "    vals[mask1] = 0\n",
    "    vals[~mask1] = .25\n",
    "    return vals\n",
    "\n",
    "def face_fuzzy(xy_mesh, r):\n",
    "    \"\"\"Best of face1 and face2. Edge rises to face.\n",
    "    Uses [X,Y] meshgrid.\n",
    "    \"\"\"\n",
    "    R = 1.1*r\n",
    "    m,n = xy_mesh[0].shape\n",
    "    # Define face regions.\n",
    "    circ = (xy_mesh[0]**2 + xy_mesh[1]**2)\n",
    "    Rvals = ((R)**2 - circ)\n",
    "    rvals = ((r)**2 - circ)\n",
    "    Rmask = Rvals < 0\n",
    "    rmask = rvals < 0\n",
    "    # Zero other regions.\n",
    "    Rvals[Rmask + ~rmask] = 0\n",
    "    Rvals /= np.max(Rvals)*4\n",
    "    Rvals[~rmask] = .25\n",
    "    # For separating from the background.\n",
    "#     Rvals[Rvals != 0] += 1\n",
    "    # For extending from the background.\n",
    "#     Rvals[Rvals != 0] *=2\n",
    "    return Rvals\n",
    "\n",
    "def face3(xy_mesh, r):\n",
    "    \"\"\"A standard one level face at radius r.\n",
    "    Uses meshgrid.\"\"\"\n",
    "    # Define face region.\n",
    "    vals = ((r)**2 - (xy_mesh[0]**2 + xy_mesh[1]**2))\n",
    "    mask1 = vals < 0\n",
    "    # Zero other regions.\n",
    "    vals[mask1] = 0\n",
    "    vals /= np.max(vals)*8\n",
    "    vals[~mask1] += 1/8\n",
    "    return vals"
   ]
  },
  {
   "cell_type": "code",
   "execution_count": 79,
   "metadata": {},
   "outputs": [],
   "source": [
    "# Smiley main function\n",
    "def smiley_grad(smile=1, face_r=1, height=480):\n",
    "    \"\"\"Return arrays of smiley 1 or 2 using the radii R, r, at the given resolution.\n",
    "    Returns the mesh (X,Y,Z) with smiley in Z\"\"\"\n",
    "    zoom_factor = 1.3\n",
    "    ratio = 4/3\n",
    "    width = int(ratio * height)\n",
    "    y_dist = zoom_factor * face_r\n",
    "    x_dist = ratio * y_dist\n",
    "    y = np.linspace(-y_dist, y_dist, height)\n",
    "    x = np.linspace(-x_dist, x_dist, width)\n",
    "    print(f'Resolution: ({height}, {width})')\n",
    "    XY = np.meshgrid(x,y)\n",
    "    # Check defined smileys.\n",
    "    smiles = (1,2,3)\n",
    "    if smile==1:\n",
    "        Z = face2(XY, face_r) + smile1(XY, False) + left_eye(XY, False) + right_eye(XY, False)\n",
    "    elif smile==2:\n",
    "        Z = face2(XY, face_r) + smile2(XY, False) + left_eye(XY, False) + right_eye(XY, False)\n",
    "    elif smile==3:\n",
    "        Z = face3(XY, face_r) + smile3(XY, False) + left_eye(XY, False) + right_eye(XY, False)\n",
    "    else:\n",
    "        raise ValueError(\"Smile must be in {}\".format(smiles))\n",
    "    X, Y = XY\n",
    "    Z *= 4\n",
    "    return X, Y, Z"
   ]
  },
  {
   "cell_type": "code",
   "execution_count": 80,
   "metadata": {},
   "outputs": [
    {
     "name": "stdout",
     "output_type": "stream",
     "text": [
      "Resolution: (480, 640)\n"
     ]
    },
    {
     "data": {
      "image/png": "[encoded data removed]",
      "text/plain": [
       "<Figure size 432x288 with 1 Axes>"
      ]
     },
     "metadata": {
      "needs_background": "light"
     },
     "output_type": "display_data"
    }
   ],
   "source": [
    "smi = 1\n",
    "r = 1\n",
    "height = 480\n",
    "X,Y,Z = smiley_grad(smi, r, height)\n",
    "smile = (Z / 2 * 255).astype(np.uint8)\n",
    "\n",
    "write = False\n",
    "\n",
    "if write:\n",
    "    if smi == 1:\n",
    "        imageio.imwrite('smiley1.png', smile[::-1])\n",
    "    elif smi == 2:\n",
    "        imageio.imwrite('smiley2.png', smile[::-1])\n",
    "    elif smi == 3:\n",
    "        imageio.imwrite('smiley1.png', smile[::-1])\n",
    "\n",
    "plt.pcolormesh(X,Y,Z, cmap='gray')\n",
    "plt.axis('equal')\n",
    "plt.show()"
   ]
  },
  {
   "cell_type": "code",
   "execution_count": 75,
   "metadata": {},
   "outputs": [],
   "source": [
    "# Helper function to saturn_depth().\n",
    "def make_sphere(x_vals, y_vals, sphere_r):\n",
    "    \"\"\"Make z values for sphere.\"\"\"\n",
    "    r_sqr_vals = x_vals**2 + y_vals**2\n",
    "    z_vals = sphere_r**2 - r_sqr_vals\n",
    "    mask_0 = z_vals < 0\n",
    "    z_vals[mask_0] = 0\n",
    "    z_vals = np.sqrt(z_vals)\n",
    "    z_vals[~mask_0] += outer_r\n",
    "    return z_vals"
   ]
  },
  {
   "cell_type": "code",
   "execution_count": 76,
   "metadata": {},
   "outputs": [],
   "source": [
    "# Helper function to saturn_depth().\n",
    "def make_ring(x_vals, y_vals, z_vals, inner_r, outer_r, min_maj_ratio):\n",
    "    \"\"\"Make z values for ring and superimpose on sphere.\"\"\"\n",
    "    # Get ellipsoid values.\n",
    "    r_sqr_vals = x_vals**2 + (y_vals / min_maj_ratio)**2\n",
    "    # Define area of ring.\n",
    "    out_vals = outer_r**2 - r_sqr_vals\n",
    "    in_vals = inner_r**2 - r_sqr_vals\n",
    "    mask_out = out_vals < 0\n",
    "    mask_in = in_vals < 0\n",
    "    # Define values of inclined plane.\n",
    "    ring_vals = -y_vals / min_maj_ratio\n",
    "    # Ignore values behind the sphere.\n",
    "    z_mask = z_vals > 0\n",
    "    z_mask[:len(z_vals)//2] = False\n",
    "    mask_out[z_mask] = True\n",
    "    # Set ring values not behind sphere.\n",
    "    z_vals[~(mask_out + ~mask_in)] = ring_vals[~(mask_out + ~mask_in)] + outer_r\n",
    "    return z_vals"
   ]
  },
  {
   "cell_type": "code",
   "execution_count": 66,
   "metadata": {},
   "outputs": [],
   "source": [
    "# Helper function to get_saturn().\n",
    "def saturn_depth(x_vals, y_vals, sphere_r, inner_r, outer_r, min_maj_ratio):\n",
    "    \"\"\"Make z values for sphere and ring.\"\"\"\n",
    "    z_vals = make_sphere(x_vals, y_vals, sphere_r)\n",
    "    z_vals = make_ring(x_vals, y_vals, z_vals, inner_r, outer_r, min_maj_ratio)\n",
    "    return z_vals"
   ]
  },
  {
   "cell_type": "code",
   "execution_count": 81,
   "metadata": {},
   "outputs": [],
   "source": [
    "# Make depth map of Saturn.\n",
    "def get_saturn(sphere_r=1, inner_r=1.5, outer_r=2, min_maj_ratio=.5, height=480):\n",
    "    \"\"\"Return depth map of Saturn.\"\"\"\n",
    "    zoom_factor = 2.\n",
    "    ratio = 4/3\n",
    "    width = int(ratio * height)\n",
    "    y_dist = zoom_factor * sphere_r\n",
    "    x_dist = ratio * y_dist\n",
    "    y = np.linspace(-y_dist, y_dist, height)\n",
    "    x = np.linspace(-x_dist, x_dist, width)\n",
    "    print(f'Resolution: ({height}, {width})')\n",
    "    x_vals, y_vals = np.meshgrid(x,y)\n",
    "    \n",
    "    z_vals = saturn_depth(x_vals, y_vals, sphere_r, inner_r, outer_r, min_maj_ratio)\n",
    "    return x_vals, y_vals, z_vals"
   ]
  },
  {
   "cell_type": "code",
   "execution_count": 90,
   "metadata": {},
   "outputs": [
    {
     "name": "stdout",
     "output_type": "stream",
     "text": [
      "Resolution: (480, 640)\n"
     ]
    },
    {
     "data": {
      "image/png": "[encoded data removed]",
      "text/plain": [
       "<Figure size 432x288 with 1 Axes>"
      ]
     },
     "metadata": {
      "needs_background": "light"
     },
     "output_type": "display_data"
    }
   ],
   "source": [
    "# Create Saturn depth map\n",
    "sphere_r = 1\n",
    "inner_r = 1.5\n",
    "outer_r = 2\n",
    "min_maj_ratio = .3\n",
    "height = 480\n",
    "X,Y,Z = get_saturn(sphere_r, inner_r, outer_r, min_maj_ratio, height)\n",
    "saturn = (Z/np.max(Z) * 255).astype(np.uint8)\n",
    "\n",
    "write = False\n",
    "if write:\n",
    "    imageio.imwrite('saturn.png', saturn[::-1])\n",
    "\n",
    "plt.pcolormesh(X,Y,Z, cmap='gray')\n",
    "plt.axis('equal')\n",
    "plt.show()"
   ]
  },
  {
   "cell_type": "code",
   "execution_count": null,
   "metadata": {},
   "outputs": [],
   "source": []
  }
 ],
 "metadata": {
  "kernelspec": {
   "display_name": "Python 3 (ipykernel)",
   "language": "python",
   "name": "python3"
  },
  "language_info": {
   "codemirror_mode": {
    "name": "ipython",
    "version": 3
   },
   "file_extension": ".py",
   "mimetype": "text/x-python",
   "name": "python",
   "nbconvert_exporter": "python",
   "pygments_lexer": "ipython3",
   "version": "3.10.4"
  }
 },
 "nbformat": 4,
 "nbformat_minor": 2
}
