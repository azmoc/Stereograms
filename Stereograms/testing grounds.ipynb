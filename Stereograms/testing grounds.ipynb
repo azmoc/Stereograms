{
 "cells": [
  {
   "cell_type": "code",
   "execution_count": 1,
   "metadata": {},
   "outputs": [],
   "source": [
    "import numpy as np\n",
    "from matplotlib import pyplot as plt\n",
    "import imageio"
   ]
  },
  {
   "cell_type": "code",
   "execution_count": 2,
   "metadata": {},
   "outputs": [
    {
     "name": "stdout",
     "output_type": "stream",
     "text": [
      "x:\n",
      "[[ 0  1  2  3]\n",
      " [ 4  5  6  7]\n",
      " [ 8  9 10 11]]\n",
      "y:\n",
      "[[0]\n",
      " [1]\n",
      " [2]]\n",
      "x+y:\n",
      "[[ 0  1  2  3]\n",
      " [ 5  6  7  8]\n",
      " [10 11 12 13]]\n"
     ]
    }
   ],
   "source": [
    "# Test reshape.\n",
    "x = np.arange(12).reshape((3,4))\n",
    "y = np.arange(3).reshape((3,1))\n",
    "print('x:',x,'y:',y,'x+y:',x+y,sep='\\n')"
   ]
  },
  {
   "cell_type": "code",
   "execution_count": 3,
   "metadata": {},
   "outputs": [
    {
     "name": "stdout",
     "output_type": "stream",
     "text": [
      "[[0.04740376]\n",
      " [0.13524605]\n",
      " [0.65602964]]\n"
     ]
    }
   ],
   "source": [
    "# Test uniform distribution.\n",
    "print(np.random.uniform(size=(3,1)))"
   ]
  },
  {
   "cell_type": "code",
   "execution_count": 8,
   "metadata": {
    "scrolled": false
   },
   "outputs": [
    {
     "data": {
      "text/plain": [
       "array([[0, 1, 2, 0, 1, 2],\n",
       "       [0, 1, 2, 0, 1, 2],\n",
       "       [0, 1, 2, 0, 1, 2],\n",
       "       [0, 1, 2, 0, 1, 2],\n",
       "       [0, 1, 2, 0, 1, 2]])"
      ]
     },
     "execution_count": 8,
     "metadata": {},
     "output_type": "execute_result"
    }
   ],
   "source": [
    "tile_test = range(3)\n",
    "np.tile(tile_test, [5, 2])"
   ]
  },
  {
   "cell_type": "code",
   "execution_count": 21,
   "metadata": {},
   "outputs": [
    {
     "name": "stdout",
     "output_type": "stream",
     "text": [
      "X:\n",
      "[[-2. -1.  0.  1.  2.]\n",
      " [-2. -1.  0.  1.  2.]\n",
      " [-2. -1.  0.  1.  2.]\n",
      " [-2. -1.  0.  1.  2.]\n",
      " [-2. -1.  0.  1.  2.]]\n",
      "Y:\n",
      "[[-2. -2. -2. -2. -2.]\n",
      " [-1. -1. -1. -1. -1.]\n",
      " [ 0.  0.  0.  0.  0.]\n",
      " [ 1.  1.  1.  1.  1.]\n",
      " [ 2.  2.  2.  2.  2.]]\n"
     ]
    }
   ],
   "source": [
    "# Meshgrid test\n",
    "x = y = np.linspace(-2,2,5)\n",
    "X,Y = np.meshgrid(x,y)\n",
    "print(f\"X:\\n{X}\")\n",
    "print(f\"Y:\\n{Y}\")"
   ]
  },
  {
   "cell_type": "code",
   "execution_count": 2,
   "metadata": {},
   "outputs": [],
   "source": [
    "# Create data for unit sphere to save as file\n",
    "res = 640\n",
    "x = y = np.linspace(-2, 2, res)\n",
    "X, Y = np.meshgrid(x, y)\n",
    "# Returns function values\n",
    "# f(x,y) = { sqrt(1 - (x**2 + y**2)) + 1    if x**2 + y**2 <= 1,\n",
    "#          { 0                              otherwise.\n",
    "def unit_sphere(x, y):\n",
    "    z_vals = (1 - (x**2 + y**2))\n",
    "    neg_mask = z_vals < 0\n",
    "    z_vals[neg_mask] = 0\n",
    "    z_vals = np.sqrt(z_vals) + 1\n",
    "    z_vals[neg_mask] = 0\n",
    "    return z_vals\n",
    "# Nonzero values are between 1 and 2.\n",
    "Z = unit_sphere(X, Y)\n",
    "# Make values between 0 and 256.\n",
    "sphere = ((Z / 2) * 256).astype(np.uint8)\n",
    "\n",
    "# Print data and save file \"sphere.png\".\n",
    "\n",
    "# print(np.min(Z), np.max(Z))\n",
    "# print(np.min(sphere), np.max(sphere))\n",
    "\n",
    "# imageio.imwrite('sphere.png', sphere)\n",
    "\n",
    "# plt.pcolormesh(X,Y,Z, cmap='gray')\n",
    "# plt.axis('equal')\n",
    "# plt.show()"
   ]
  },
  {
   "cell_type": "code",
   "execution_count": 1,
   "metadata": {},
   "outputs": [
    {
     "name": "stdout",
     "output_type": "stream",
     "text": [
      "0.7353277807866851\n"
     ]
    }
   ],
   "source": [
    "# Test offsets\n",
    "h = (.35**2 + .5**2)**.5 + .125\n",
    "print(h)"
   ]
  },
  {
   "cell_type": "code",
   "execution_count": null,
   "metadata": {
    "scrolled": false
   },
   "outputs": [],
   "source": [
    "# Test averaging values\n",
    "g3x2=(3,2)\n",
    "g2x3=(2,3)\n",
    "g2x2=(2,2)\n",
    "def average_pixels(grid_original, weight=4): #\"\"\"((0 1 2) (3 4 5) (6 7 8))\"\"\"\n",
    "    grid=grid_original.copy()\n",
    "    match weight:\n",
    "        case 0:\n",
    "            grid*=np.array((4,2,2,1)).reshape(g2x2)/9\n",
    "        case 1:\n",
    "            grid*=np.array((2,2,2,1,1,1)).reshape(g2x3)/9\n",
    "        case 2:\n",
    "            grid*=np.array((2,4,1,2)).reshape(g2x2)/9\n",
    "        case 3:\n",
    "            grid*=np.array((2,1,2,1,2,1)).reshape(g3x2)/9\n",
    "        case 4:\n",
    "            grid/=9\n",
    "        case 5:\n",
    "            grid*=np.array((1,2,1,2,1,2)).reshape(g3x2)/9\n",
    "        case 6:\n",
    "            grid*=np.array((2,1,4,2)).reshape(g2x2)/9\n",
    "        case 7:\n",
    "            grid*=np.array((1,1,1,2,2,2)).reshape(g2x3)/9\n",
    "        case 8:\n",
    "            grid*=np.array((1,2,2,4)).reshape(g2x2)/9\n",
    "        case _:\n",
    "            # No case matches\n",
    "            grid/=9\n",
    "    return np.sum(grid)\n",
    "\n",
    "def blur_pixels(grid):\n",
    "    grid_copy=grid.copy()\n",
    "    (x,y)=grid.shape\n",
    "    for i in range(x):\n",
    "        for j in range(y):\n",
    "            arr = grid_copy[max(0,i-1):i+2,max(0,j-1):j+2]\n",
    "            grid[i,j]=average_pixels(arr, 3*(min(1,i) + min(1,max(i-x+2,0))) \n",
    "                                     + (min(1,j) + min(1,max(j-y+2,0))))\n",
    "\n",
    "res = 4\n",
    "x_axis = y_axis = np.linspace(-2, 2, res)\n",
    "grid_x, grid_y = np.meshgrid(x_axis, y_axis)\n",
    "test_grid = np.random.rand(res,2*res)\n",
    "\n",
    "fig = plt.figure(figsize=(10,10))\n",
    "plts = plt.subplot(331)\n",
    "plt.imshow(test_grid)\n",
    "plt.axis(\"off\")\n",
    "plts = plt.subplot(332)\n",
    "blur_pixels(test_grid)\n",
    "plt.imshow(test_grid)\n",
    "plt.axis(\"off\")\n",
    "plts = plt.subplot(333)\n",
    "blur_pixels(test_grid)\n",
    "plt.imshow(test_grid)\n",
    "plt.axis(\"off\")\n",
    "plts = plt.subplot(334)\n",
    "blur_pixels(test_grid)\n",
    "plt.imshow(test_grid)\n",
    "plt.axis(\"off\")\n",
    "plts = plt.subplot(335)\n",
    "plt.imshow(test_grid)\n",
    "plt.axis(\"off\")\n",
    "plts = plt.subplot(336)\n",
    "blur_pixels(test_grid)\n",
    "plt.imshow(test_grid)\n",
    "plt.axis(\"off\")\n",
    "plts = plt.subplot(337)\n",
    "blur_pixels(test_grid)\n",
    "plt.imshow(test_grid)\n",
    "plt.axis(\"off\")\n",
    "plts = plt.subplot(338)\n",
    "blur_pixels(test_grid)\n",
    "plt.imshow(test_grid)\n",
    "plt.axis(\"off\")\n",
    "plts = plt.subplot(339)\n",
    "blur_pixels(test_grid)\n",
    "plt.imshow(test_grid)\n",
    "plt.axis(\"off\")\n",
    "plt.show()\n"
   ]
  },
  {
   "cell_type": "code",
   "execution_count": 75,
   "metadata": {},
   "outputs": [
    {
     "data": {
      "text/plain": [
       "array([[1, 1, 1],\n",
       "       [1, 4, 1]])"
      ]
     },
     "execution_count": 75,
     "metadata": {},
     "output_type": "execute_result"
    }
   ],
   "source": [
    "np.array((1,1,1,1,4,1)).reshape(2,3)"
   ]
  },
  {
   "cell_type": "code",
   "execution_count": null,
   "metadata": {},
   "outputs": [],
   "source": []
  }
 ],
 "metadata": {
  "kernelspec": {
   "display_name": "Python 3 (ipykernel)",
   "language": "python",
   "name": "python3"
  },
  "language_info": {
   "codemirror_mode": {
    "name": "ipython",
    "version": 3
   },
   "file_extension": ".py",
   "mimetype": "text/x-python",
   "name": "python",
   "nbconvert_exporter": "python",
   "pygments_lexer": "ipython3",
   "version": "3.10.4"
  }
 },
 "nbformat": 4,
 "nbformat_minor": 2
}
