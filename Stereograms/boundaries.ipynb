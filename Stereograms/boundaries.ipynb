{
 "cells": [
  {
   "cell_type": "code",
   "execution_count": null,
   "metadata": {},
   "outputs": [],
   "source": [
    "from scipy.signal import fftconvolve\n",
    "import matplotlib.pyplot as plt\n",
    "import numpy as np\n",
    "from imageio import imread\n",
    "import pywt"
   ]
  },
  {
   "cell_type": "code",
   "execution_count": null,
   "metadata": {},
   "outputs": [],
   "source": [
    "# Was for plotting LH (after 1 level of decomposition) using the Haar wavelet.\n",
    "# THIS is a test for determining if one can find a better background pattern for stereograms.\n",
    "sphere = imread('sphere.png')\n",
    "LL_Haar = pywt.wavedec2(sphere, 'haar', mode='per', level=1)\n",
    "details = np.sum([LL_Haar[1][i] for i in range(3)], axis=0)\n",
    "# plt.imshow(LL_Haar[1][0],cmap='gray')\n",
    "# plt.title('Haar Wavelet LH Detail')\n",
    "plt.imshow(details, cmap='gray')\n",
    "plt.show()"
   ]
  },
  {
   "cell_type": "code",
   "execution_count": null,
   "metadata": {},
   "outputs": [],
   "source": []
  }
 ],
 "metadata": {
  "kernelspec": {
   "display_name": "Python 3 (ipykernel)",
   "language": "python",
   "name": "python3"
  },
  "language_info": {
   "codemirror_mode": {
    "name": "ipython",
    "version": 3
   },
   "file_extension": ".py",
   "mimetype": "text/x-python",
   "name": "python",
   "nbconvert_exporter": "python",
   "pygments_lexer": "ipython3",
   "version": "3.10.4"
  }
 },
 "nbformat": 4,
 "nbformat_minor": 2
}
